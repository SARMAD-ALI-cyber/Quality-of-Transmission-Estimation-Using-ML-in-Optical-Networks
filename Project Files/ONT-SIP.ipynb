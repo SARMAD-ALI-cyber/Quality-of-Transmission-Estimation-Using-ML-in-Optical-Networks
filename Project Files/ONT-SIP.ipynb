{
 "cells": [
  {
   "cell_type": "code",
   "execution_count": 1,
   "id": "f07f8262",
   "metadata": {},
   "outputs": [],
   "source": [
    "import numpy as np\n",
    "import matplotlib.pyplot as plt\n",
    "import pandas as pd\n",
    "# import warnings\n",
    "# warnings.filterwarnings('ignore')\n",
    "from sklearn.model_selection import train_test_split\n",
    "from sklearn.preprocessing import OneHotEncoder\n",
    "from sklearn.preprocessing import MinMaxScaler\n",
    "from sklearn.preprocessing import StandardScaler\n",
    "import copy\n",
    "import tensorflow as tf\n",
    "from tensorflow.keras.models import Sequential\n",
    "from tensorflow.keras.layers import Dense\n",
    "import matplotlib.pyplot as plt\n",
    "import logging\n",
    "logging.getLogger(\"tensorflow\").setLevel(logging.ERROR)\n",
    "tf.autograph.set_verbosity(0)\n",
    "from scipy.special import expit"
   ]
  },
  {
   "cell_type": "code",
   "execution_count": 3,
   "id": "766a2df7",
   "metadata": {},
   "outputs": [],
   "source": [
    "data = pd.read_csv('test_USA.csv')\n",
    "X = data.iloc[:, :-1]  # Select all columns except the last one\n",
    "y=data[\"GSNR_1\"]\n",
    "X_train, X_test, y_train, y_test = train_test_split(X, y, test_size=0.2, random_state=42)\n",
    "X_train=np.array(X_train)\n",
    "y_train=np.array(y_train)\n",
    "y_train=y_train.reshape(-1,1)"
   ]
  },
  {
   "cell_type": "code",
   "execution_count": 5,
   "id": "a6b575d7",
   "metadata": {},
   "outputs": [
    {
     "name": "stdout",
     "output_type": "stream",
     "text": [
      "X_train (26400, 305)\n",
      "y_train (26400, 1)\n",
      "X_test (6600, 305)\n",
      "y_test (6600,)\n"
     ]
    },
    {
     "data": {
      "text/plain": [
       "array([[-0.84269354,  1.22122761,  1.22496227, ..., -0.63240593,\n",
       "        -0.13960499, -0.09659711],\n",
       "       [-0.84269354,  1.22557692, -0.83031147, ..., -0.63240593,\n",
       "         0.18780349,  0.16523775],\n",
       "       [-0.84269354, -0.83164554,  1.22931666, ..., -0.63240593,\n",
       "        -0.13960499, -0.09659711],\n",
       "       ...,\n",
       "       [ 1.12868526,  1.14511473,  1.15093758, ..., -0.63240593,\n",
       "         1.23551062,  1.20810742],\n",
       "       [-0.84269354, -0.83164554, -0.83031147, ..., -0.63240593,\n",
       "        -0.27056838, -0.27809368],\n",
       "       [-0.84269354, -0.6296202 , -0.83031147, ...,  3.60593093,\n",
       "        -1.38375721, -1.34580137]])"
      ]
     },
     "execution_count": 5,
     "metadata": {},
     "output_type": "execute_result"
    }
   ],
   "source": [
    "#========normalization==========\n",
    "#scaler = MinMaxScaler()\n",
    "scaler = StandardScaler()\n",
    "X_train = scaler.fit_transform(X_train)\n",
    "X_test=scaler.transform(X_test)\n",
    "L_scaler=StandardScaler()\n",
    "y_train=L_scaler.fit_transform(y_train)\n",
    "print(\"X_train\",X_train.shape)\n",
    "print(\"y_train\",y_train.shape)\n",
    "print(\"X_test\",X_test.shape)\n",
    "print(\"y_test\",y_test.shape)\n",
    "X_train"
   ]
  },
  {
   "cell_type": "code",
   "execution_count": 6,
   "id": "cc2f7fe9",
   "metadata": {},
   "outputs": [],
   "source": [
    "def initialize(n_x,n_h,n_y):\n",
    "    np.random.seed(2)\n",
    "    \n",
    "    W1=np.random.randn(n_h,n_x)*0.01\n",
    "    b1=np.zeros((n_h,1))\n",
    "    W2=np.random.randn(n_y,n_h)*0.01\n",
    "    b2=np.zeros((n_y,1))\n",
    "    \n",
    "    parameters={\"W1\":W1,\n",
    "               \"b1\":b1,\n",
    "               \"W2\":W2,\n",
    "               \"b2\":b2}\n",
    "    return parameters"
   ]
  },
  {
   "cell_type": "code",
   "execution_count": 7,
   "id": "f75ebb6f",
   "metadata": {},
   "outputs": [],
   "source": [
    "def ReLU(x):\n",
    "    return x * (x > 0)\n",
    "def ReLU_derivative(x):\n",
    "    return (x>=0)"
   ]
  },
  {
   "cell_type": "code",
   "execution_count": 8,
   "id": "157b2073",
   "metadata": {},
   "outputs": [],
   "source": [
    "def leaky_relu(x, alpha=0.01):\n",
    "    return np.maximum(alpha * x, x)"
   ]
  },
  {
   "cell_type": "code",
   "execution_count": 8,
   "id": "c7eea4dd",
   "metadata": {},
   "outputs": [],
   "source": [
    "def forward_propagation(X,parameters):\n",
    "    \n",
    "    W1=parameters[\"W1\"]\n",
    "    b1=parameters[\"b1\"]\n",
    "    W2=parameters[\"W2\"]\n",
    "    b2=parameters[\"b2\"]\n",
    "    \n",
    "    \n",
    "    \n",
    "    \n",
    "    Z1=np.dot(W1,X.T)+b1\n",
    "    #A1=np.tanh(Z1) \n",
    "    #A1=1/(1+np.exp(-Z1))\n",
    "    A1=ReLU(Z1)\n",
    "    Z2=np.dot(W2,A1)+b2\n",
    "    #A2=Z2\n",
    "    A2=ReLU(Z2)\n",
    "    #A2=leaky_relu(Z2)\n",
    "    #A2=1/(1+np.exp(-Z2))\n",
    "    \n",
    "    \n",
    "    cache = {\"Z1\": Z1,\n",
    "             \"A1\": A1,\n",
    "             \"Z2\": Z2,\n",
    "             \"A2\": A2}\n",
    "    #print(\"Z1\",Z1.shape)\n",
    "    #print(\"A1\",A1.shape)\n",
    "    #print(\"Z2\",Z2.shape)\n",
    "    #print(\"A2\",A2.shape)\n",
    "\n",
    "\n",
    "    return A2, cache"
   ]
  },
  {
   "cell_type": "code",
   "execution_count": 14,
   "id": "b1807445",
   "metadata": {},
   "outputs": [],
   "source": [
    "def compute_cost(A2, Y):\n",
    "    \n",
    "    \n",
    "    \n",
    "    m=Y.shape[0]\n",
    "    \n",
    "    #cost=(-1/m)*(np.dot(Y, np.log(A2+0.000001).T) + np.dot((1-Y), np.log((1-A2)+0.000001).T))\n",
    "    cost=np.sum((A2-Y)**2)/(m)\n",
    "    cost = float(np.squeeze(cost)) \n",
    "    return cost"
   ]
  },
  {
   "cell_type": "code",
   "execution_count": 15,
   "id": "e9c7c7b6",
   "metadata": {},
   "outputs": [],
   "source": [
    "def back_propagation(X,Y,parameters,cache):\n",
    "    m=X.shape[0]\n",
    "    \n",
    "    \n",
    "    \n",
    "    W1=parameters[\"W1\"]\n",
    "    W2=parameters[\"W2\"]\n",
    "    A1=cache[\"A1\"]\n",
    "    A2=cache[\"A2\"]\n",
    "    Z1=cache[\"Z1\"]\n",
    "    \n",
    "    #cros entropy loss back prop\n",
    "    dZ2=A2-Y\n",
    "    dW2=(1/m)*np.dot(dZ2,A1.T)\n",
    "    db2=(1/m)*(np.sum(dZ2,axis=1,keepdims=True))\n",
    "    #dZ1=np.dot(W2.T,dZ2) *(1 - np.power(A1, 2))\n",
    "    #dZ1=np.dot(W2.T,dZ2) *(A1*(1-A1))\n",
    "    dZ1=np.dot(W2.T,dZ2) *ReLU_derivative(Z1)   \n",
    "    dW1=(1/m) *(np.dot(dZ1,X))\n",
    "    db1=(1/m)*(np.sum(dZ1,axis=1,keepdims=True))\n",
    "    #============================\n",
    "    \n",
    "    grads={\"dW2\":dW2,\n",
    "          \"db2\":db2,\n",
    "          \"dW1\":dW1,\n",
    "          \"db1\":db1}\n",
    "#     print(\"dw1\",dW1.shape)\n",
    "#     print(\"dW2\",dW2.shape)\n",
    "    return grads"
   ]
  },
  {
   "cell_type": "code",
   "execution_count": 16,
   "id": "ae07455e",
   "metadata": {},
   "outputs": [],
   "source": [
    "def update_parameters(parameters,grads,learning_rate):\n",
    "    \n",
    "    W1=parameters[\"W1\"]\n",
    "    W2=parameters[\"W2\"]\n",
    "    b1=parameters[\"b1\"]\n",
    "    b2=parameters[\"b2\"]\n",
    "    \n",
    "    \n",
    "    \n",
    "    dW1=grads[\"dW1\"]\n",
    "    dW2=grads[\"dW2\"]\n",
    "    db2=grads[\"db2\"]\n",
    "    db1=grads[\"db1\"]\n",
    "    \n",
    "    \n",
    "    W1=W1-learning_rate*dW1\n",
    "    W2=W2-learning_rate*dW2\n",
    "    b1=b1-learning_rate*db1\n",
    "    b2=b2-learning_rate*db2\n",
    "    \n",
    "    \n",
    "    parameters={\"W1\":W1,\n",
    "               \"W2\":W2,\n",
    "               \"b1\":b1,\n",
    "               \"b2\":b2}\n",
    "    return parameters"
   ]
  },
  {
   "cell_type": "code",
   "execution_count": 17,
   "id": "44a46d8f",
   "metadata": {},
   "outputs": [],
   "source": [
    "def train_model(X,Y, n_h, num_iterations = 10000, print_cost=False):\n",
    "    n_x=X.shape[1]\n",
    "    n_y=1\n",
    "    \n",
    "    \n",
    "    parameters=initialize(n_x,n_h,n_y)\n",
    "    W1=parameters[\"W1\"]\n",
    "    b1=parameters[\"b1\"]\n",
    "    W2=parameters[\"W2\"]\n",
    "    b2=parameters[\"b2\"]\n",
    "    \n",
    "    \n",
    "    \n",
    "    for i in range(0,num_iterations):\n",
    "        A2, cache = forward_propagation(X, parameters)\n",
    "        \n",
    "        cost = compute_cost(A2, Y)\n",
    "        \n",
    "        \n",
    "        grads = back_propagation(X,Y,parameters,cache)\n",
    "        \n",
    "        parameters = update_parameters(parameters, grads, 0.001)#0.001\n",
    "        \n",
    "        \n",
    "        \n",
    "        if (i%100==0) :\n",
    "            print(\"cost after\",i,\"iteration is\",cost)\n",
    "            \n",
    "            \n",
    "    return parameters,cost"
   ]
  },
  {
   "cell_type": "code",
   "execution_count": 19,
   "id": "edcf3a73",
   "metadata": {},
   "outputs": [
    {
     "name": "stdout",
     "output_type": "stream",
     "text": [
      "cost after 0 iteration is 514.8677847334243\n",
      "cost after 100 iteration is 317.75608425328574\n",
      "cost after 200 iteration is 191.76463750204394\n",
      "cost after 300 iteration is 153.41401682619548\n",
      "cost after 400 iteration is 148.98892747705187\n",
      "cost after 500 iteration is 147.10481126589715\n",
      "cost after 600 iteration is 145.8180571316407\n",
      "cost after 700 iteration is 144.78974917443836\n",
      "cost after 800 iteration is 143.9307303813035\n",
      "cost after 900 iteration is 143.19925043830065\n",
      "The cost after 1000 iterations is  142.56865300706886\n"
     ]
    }
   ],
   "source": [
    "parameters,cost=train_model(X_train,y_train,8 , num_iterations = 1000, print_cost=True)\n",
    "print(\"The cost after 1000 iterations is \",cost)"
   ]
  },
  {
   "cell_type": "code",
   "execution_count": null,
   "id": "f9d06f13",
   "metadata": {},
   "outputs": [],
   "source": []
  },
  {
   "cell_type": "code",
   "execution_count": null,
   "id": "4b8678b0",
   "metadata": {},
   "outputs": [],
   "source": []
  }
 ],
 "metadata": {
  "kernelspec": {
   "display_name": "Python 3 (ipykernel)",
   "language": "python",
   "name": "python3"
  },
  "language_info": {
   "codemirror_mode": {
    "name": "ipython",
    "version": 3
   },
   "file_extension": ".py",
   "mimetype": "text/x-python",
   "name": "python",
   "nbconvert_exporter": "python",
   "pygments_lexer": "ipython3",
   "version": "3.10.7"
  }
 },
 "nbformat": 4,
 "nbformat_minor": 5
}
